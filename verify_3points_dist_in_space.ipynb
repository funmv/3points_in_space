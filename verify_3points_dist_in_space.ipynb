{
 "cells": [
  {
   "cell_type": "markdown",
   "id": "90598381",
   "metadata": {},
   "source": [
    "## min_distance함수를 ChatGPT4o가 만든 함수와 비교하여 검증   \n",
    "- 다차원 공간 내에 점이 3개(p1,p2,p3) 있을 때, p2p1직선(p1에서 p2로 가는) 상에 p3점을 수직으로 사영한다. \n",
    "- 이 때, 이 사영점의 좌표 p4와 방향 벡터t(t가 0<t<1이면 p4가 p1~p2 사이값, t>=1이면 p4가 외부값) 계산\n",
    "- p3점과 p4점 사이의 거리도 계산"
   ]
  },
  {
   "cell_type": "code",
   "execution_count": 20,
   "id": "e62fa555",
   "metadata": {},
   "outputs": [],
   "source": [
    "import numpy as np"
   ]
  },
  {
   "cell_type": "code",
   "execution_count": 14,
   "id": "3b0a77a6",
   "metadata": {},
   "outputs": [],
   "source": [
    "def min_distance(p1, p2, p3):\n",
    "    dpp = p2-p1\n",
    "    t = np.dot(p3-p1,dpp)/sum(x*x for x in dpp) \n",
    "    p4 = p1 + t*dpp    \n",
    "    return t, p4, np.sqrt(sum(x*x for x in p4-p3))"
   ]
  },
  {
   "cell_type": "code",
   "execution_count": 17,
   "id": "183aa351",
   "metadata": {},
   "outputs": [
    {
     "data": {
      "text/plain": [
       "(0.4818883169137318,\n",
       " array([491.39597425, 230.6625959 , 447.84406403]),\n",
       " 7.994818198123482)"
      ]
     },
     "execution_count": 17,
     "metadata": {},
     "output_type": "execute_result"
    }
   ],
   "source": [
    "p1=np.array([488.07485962, 240.05029297, 447.64212036]) \n",
    "p2=np.array([494.96673584, 220.56922913, 448.06118774])\n",
    "p3=np.array([490, 230, 440])\n",
    "\n",
    "t, p4, dist = min_distance(p1,p2,p3)\n",
    "t, p4, dist"
   ]
  },
  {
   "cell_type": "code",
   "execution_count": null,
   "id": "b9946e00",
   "metadata": {},
   "outputs": [],
   "source": []
  },
  {
   "cell_type": "code",
   "execution_count": 18,
   "id": "bf77e662",
   "metadata": {},
   "outputs": [
    {
     "name": "stdout",
     "output_type": "stream",
     "text": [
      "The point [2 3 4] projected onto the line through [1 2 3] and [4 6 8] is [1.72 2.96 4.2 ]\n"
     ]
    }
   ],
   "source": [
    "def project_point_onto_line(p1, p2, p3):  # coded by GPT4o\n",
    "    d = p2 - p1\n",
    "    v = p3 - p1\n",
    "    \n",
    "    # Calculate the projection of v onto d\n",
    "    d_unit = d / np.linalg.norm(d)\n",
    "    proj_length = np.dot(v, d_unit)\n",
    "    proj_v = proj_length * d_unit\n",
    "    \n",
    "    # Calculate the projected point\n",
    "    t = p1 + proj_v\n",
    "    \n",
    "    return t\n",
    "\n",
    "# Example points\n",
    "p1 = np.array([1, 2, 3])\n",
    "p2 = np.array([4, 6, 8])\n",
    "p3 = np.array([2, 3, 4])\n",
    "\n",
    "# Calculate the projected point\n",
    "t = project_point_onto_line(p1, p2, p3)\n",
    "\n",
    "print(f\"The point {p3} projected onto the line through {p1} and {p2} is {t}\")"
   ]
  },
  {
   "cell_type": "code",
   "execution_count": 19,
   "id": "f526758a",
   "metadata": {},
   "outputs": [
    {
     "data": {
      "text/plain": [
       "array([491.39597425, 230.6625959 , 447.84406403])"
      ]
     },
     "execution_count": 19,
     "metadata": {},
     "output_type": "execute_result"
    }
   ],
   "source": [
    "p1=np.array([488.07485962, 240.05029297, 447.64212036]) \n",
    "p2=np.array([494.96673584, 220.56922913, 448.06118774])\n",
    "p3=np.array([490, 230, 440])\n",
    "p4 = project_point_onto_line(p1, p2, p3)  # p4 calculated is coinside to below value\n",
    "p4"
   ]
  },
  {
   "cell_type": "code",
   "execution_count": null,
   "id": "cb7dece6",
   "metadata": {},
   "outputs": [],
   "source": []
  },
  {
   "cell_type": "code",
   "execution_count": null,
   "id": "e18ae54b",
   "metadata": {},
   "outputs": [],
   "source": []
  },
  {
   "cell_type": "code",
   "execution_count": null,
   "id": "509bb48d",
   "metadata": {},
   "outputs": [],
   "source": []
  }
 ],
 "metadata": {
  "kernelspec": {
   "display_name": "Python 3 (ipykernel)",
   "language": "python",
   "name": "python3"
  },
  "language_info": {
   "codemirror_mode": {
    "name": "ipython",
    "version": 3
   },
   "file_extension": ".py",
   "mimetype": "text/x-python",
   "name": "python",
   "nbconvert_exporter": "python",
   "pygments_lexer": "ipython3",
   "version": "3.9.15"
  },
  "varInspector": {
   "cols": {
    "lenName": 16,
    "lenType": 16,
    "lenVar": 40
   },
   "kernels_config": {
    "python": {
     "delete_cmd_postfix": "",
     "delete_cmd_prefix": "del ",
     "library": "var_list.py",
     "varRefreshCmd": "print(var_dic_list())"
    },
    "r": {
     "delete_cmd_postfix": ") ",
     "delete_cmd_prefix": "rm(",
     "library": "var_list.r",
     "varRefreshCmd": "cat(var_dic_list()) "
    }
   },
   "types_to_exclude": [
    "module",
    "function",
    "builtin_function_or_method",
    "instance",
    "_Feature"
   ],
   "window_display": false
  }
 },
 "nbformat": 4,
 "nbformat_minor": 5
}
